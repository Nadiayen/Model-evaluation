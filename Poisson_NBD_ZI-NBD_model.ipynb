{
 "cells": [
  {
   "cell_type": "markdown",
   "metadata": {},
   "source": [
    "# Part 1"
   ]
  },
  {
   "cell_type": "code",
   "execution_count": 1,
   "metadata": {},
   "outputs": [],
   "source": [
    "import numpy as np\n",
    "import pandas as pd\n",
    "from math import e\n",
    "from scipy.optimize import minimize\n",
    "from scipy.stats import gamma\n",
    "from scipy.stats import poisson\n",
    "from scipy.stats import gamma\n",
    "from scipy.optimize import minimize\n",
    "from scipy.special import factorial\n",
    "import math"
   ]
  },
  {
   "cell_type": "code",
   "execution_count": 2,
   "metadata": {},
   "outputs": [],
   "source": [
    "df = pd.read_csv('candy.csv')"
   ]
  },
  {
   "cell_type": "code",
   "execution_count": 3,
   "metadata": {},
   "outputs": [
    {
     "data": {
      "text/html": [
       "<div>\n",
       "<style scoped>\n",
       "    .dataframe tbody tr th:only-of-type {\n",
       "        vertical-align: middle;\n",
       "    }\n",
       "\n",
       "    .dataframe tbody tr th {\n",
       "        vertical-align: top;\n",
       "    }\n",
       "\n",
       "    .dataframe thead th {\n",
       "        text-align: right;\n",
       "    }\n",
       "</style>\n",
       "<table border=\"1\" class=\"dataframe\">\n",
       "  <thead>\n",
       "    <tr style=\"text-align: right;\">\n",
       "      <th></th>\n",
       "      <th>Packs</th>\n",
       "      <th>People</th>\n",
       "    </tr>\n",
       "  </thead>\n",
       "  <tbody>\n",
       "    <tr>\n",
       "      <th>0</th>\n",
       "      <td>0</td>\n",
       "      <td>102</td>\n",
       "    </tr>\n",
       "    <tr>\n",
       "      <th>1</th>\n",
       "      <td>1</td>\n",
       "      <td>54</td>\n",
       "    </tr>\n",
       "    <tr>\n",
       "      <th>2</th>\n",
       "      <td>2</td>\n",
       "      <td>49</td>\n",
       "    </tr>\n",
       "    <tr>\n",
       "      <th>3</th>\n",
       "      <td>3</td>\n",
       "      <td>62</td>\n",
       "    </tr>\n",
       "    <tr>\n",
       "      <th>4</th>\n",
       "      <td>4</td>\n",
       "      <td>44</td>\n",
       "    </tr>\n",
       "  </tbody>\n",
       "</table>\n",
       "</div>"
      ],
      "text/plain": [
       "   Packs  People\n",
       "0      0     102\n",
       "1      1      54\n",
       "2      2      49\n",
       "3      3      62\n",
       "4      4      44"
      ]
     },
     "execution_count": 3,
     "metadata": {},
     "output_type": "execute_result"
    }
   ],
   "source": [
    "df.head()"
   ]
  },
  {
   "cell_type": "markdown",
   "metadata": {},
   "source": [
    "#### The Poisson Model"
   ]
  },
  {
   "cell_type": "code",
   "execution_count": 4,
   "metadata": {},
   "outputs": [
    {
     "name": "stdout",
     "output_type": "stream",
     "text": [
      "Lambda:3.9912283512077944\n",
      "Log likelihood:-1544.9963904489719\n"
     ]
    }
   ],
   "source": [
    "#1. we name the arrays that will go into the function\n",
    "a = np.array(df[['People']])\n",
    "b = np.array(df[['Packs']])\n",
    "lmbda = 1\n",
    "\n",
    "#2.we define the Poisson Regression Model\n",
    "def PLL(lmbda,a,b):\n",
    "    #variable c will store the cumulative log-likelihood\n",
    "    c = 0 \n",
    "    #the for loop below will iterate throuh each row of the dataset\n",
    "    for i in range(len(a)): \n",
    "        c += a[i]*np.log(poisson.pmf(b[i], lmbda))\n",
    "    return (-1)*c \n",
    "\n",
    "#3.we use the minimize function to optimize the parameter\n",
    "#(in this case, LAMBDA) to maximize the log likelihood\n",
    "solpm1 = minimize(\n",
    "    PLL,\n",
    "    args = (a,b),\n",
    "    x0 = np.array((1)),\n",
    "    bounds=[(0.000001,None)],\n",
    "    tol=1e-10,\n",
    "    options={'ftol' : 1e-8},\n",
    ")\n",
    "\n",
    "#4. we print the parameters and final log likelihood value\n",
    "final_lmbda = solpm1.x[0]\n",
    "ll_pm1 = solpm1.fun[0]\n",
    "print(\"Lambda:{}\".format(final_lmbda))\n",
    "print(\"Log likelihood:{}\".format(ll_pm1*(-1)))"
   ]
  },
  {
   "cell_type": "markdown",
   "metadata": {},
   "source": [
    "#### The NBD Model"
   ]
  },
  {
   "cell_type": "code",
   "execution_count": 5,
   "metadata": {},
   "outputs": [
    {
     "name": "stdout",
     "output_type": "stream",
     "text": [
      "Alpha:0.2499605034092882\n",
      "n:0.9976364542507823\n",
      "Log likelihood:-1140.0237462459445\n"
     ]
    }
   ],
   "source": [
    "#1. define the NBD model function\n",
    "def NBD(params,k,t):\n",
    "    alpha,n = params\n",
    "    if k==0:\n",
    "        return (alpha/(alpha+t))**n\n",
    "    else:\n",
    "        return (((n+k-1)*t)/(k*(alpha+t)))*NBD(params,k-1,t)\n",
    "\n",
    "#2. define the model that will calculate the cumulative log likelihood of the NBD model\n",
    "def NBDLL(params,t,a,b):\n",
    "    nbd = 0\n",
    "    for i in range(len(a)):\n",
    "        nbd += a[i]*np.log(NBD(params,b[i],t))\n",
    "    return (-1)*nbd\n",
    "\n",
    "#3. run the NBDLL model through the minimize function\n",
    "#this will optimize the parameters alpha and n in order to maximize the log likelihood\n",
    "alpha = 1\n",
    "n = 1\n",
    "t = 1\n",
    "solnbd1 = minimize(\n",
    "    NBDLL,\n",
    "    args = (t,a,b),\n",
    "    x0 = np.array((1,1)),\n",
    "    bounds=[(0.000001,None),(0.000001,None)],\n",
    "    tol=1e-10,\n",
    "    options={'ftol' : 1e-8},\n",
    ")\n",
    "alpha = solnbd1.x[0]\n",
    "n = solnbd1.x[1]\n",
    "ll_nbd1 = solnbd1.fun[0]\n",
    "print(\"Alpha:{}\".format(alpha))\n",
    "print(\"n:{}\".format(n))\n",
    "print(\"Log likelihood:{}\".format(ll_nbd1*(-1)))"
   ]
  },
  {
   "cell_type": "markdown",
   "metadata": {},
   "source": [
    "#### The Zero Inflated NBD Model"
   ]
  },
  {
   "cell_type": "code",
   "execution_count": 6,
   "metadata": {},
   "outputs": [
    {
     "data": {
      "text/plain": [
       "      fun: array([1136.16564083])\n",
       " hess_inv: <3x3 LbfgsInvHessProduct with dtype=float64>\n",
       "      jac: array([-0.00311502,  0.00070486, -0.00100044])\n",
       "  message: b'CONVERGENCE: REL_REDUCTION_OF_F_<=_FACTR*EPSMCH'\n",
       "     nfev: 68\n",
       "      nit: 14\n",
       "     njev: 17\n",
       "   status: 0\n",
       "  success: True\n",
       "        x: array([0.33418767, 1.50392276, 0.11310436])"
      ]
     },
     "execution_count": 6,
     "metadata": {},
     "output_type": "execute_result"
    }
   ],
   "source": [
    "candy=pd.read_csv('candy.csv')\n",
    "k = np.array(candy[['Packs']]) #define the first array that will go through the PLL function\n",
    "b = np.array(candy[['People']]) #define the second array that will go through PLL\n",
    "\n",
    "def NBD(params,k):#this function will calculate NBD\n",
    "    alpha,n,pi = params #three parameters\n",
    "    if k==0:\n",
    "        return ((alpha/(alpha+1))**n)\n",
    "    else:\n",
    "        return (((n+k-1)/(k*(alpha+1)))*NBD(params,k-1))\n",
    "    \n",
    "def ZINBD(params,k):#this function will calculate the ZERO INFLATED NBD by utilizing the NBD function\n",
    "    alpha,n,pi= params\n",
    "    if k==0:\n",
    "        return pi +(1-pi)*NBD(params,k)\n",
    "    else:\n",
    "        return (1-pi)*NBD(params,k)\n",
    "    \n",
    "def ZINBDLL(params,k,b): #this function will calculate the log likelihood of a ZI NBD by utilizing the ZINBD function\n",
    "    alpha,n,pi=params\n",
    "    zinbd = 0\n",
    "    for i in range(len(b)):\n",
    "        zinbd += b[i]*np.log(ZINBD(params,k[i]))\n",
    "    return (-1)*zinbd\n",
    "\n",
    "alpha = 1 # 000001 -inf\n",
    "n = 1 # 000001 -inf\n",
    "pi =0.5 # 000001 -0.99999 \n",
    "solzinbd = minimize(\n",
    "    ZINBDLL,\n",
    "    args = (k,b),\n",
    "    x0 = np.array((1,1.5,0.00000001)),\n",
    "    bounds=[(0.000001,None),(0.000001,None),(0.000001,0.999999)],\n",
    "    tol=1e-10,\n",
    "    options={'ftol' : 1e-8},\n",
    ")\n",
    "\n",
    "solzinbd"
   ]
  },
  {
   "cell_type": "markdown",
   "metadata": {},
   "source": [
    "#### The Finite Mixture Models for 2,3,4 segments"
   ]
  },
  {
   "cell_type": "markdown",
   "metadata": {},
   "source": [
    "#### 2-segment"
   ]
  },
  {
   "cell_type": "code",
   "execution_count": 7,
   "metadata": {},
   "outputs": [
    {
     "name": "stdout",
     "output_type": "stream",
     "text": [
      "lambda1 value for two-segment 1.802152486641123\n",
      "lambda2 value for two-segment 9.120665766225097\n",
      "pi1 value for two-segment 0.2991217614346511\n",
      "pi2(1-pi1) value for two-segment 0.7008782385653489\n",
      "Log likelihood for 2-segment finite mixture model-1188.8328272199415\n"
     ]
    }
   ],
   "source": [
    "def two_segment(params,a,b):\n",
    "    pi,lambda1,lambda2 = params\n",
    "    ll = 0\n",
    "    for i in range(len(b)):\n",
    "        ll += a[i]*np.log(pi*(poisson.pmf(b[i],lambda1)) + (1-pi)*(poisson.pmf(b[i],lambda2)))\n",
    "    return (-1)*ll\n",
    "\n",
    "a = np.array(df[['People']])\n",
    "b = np.array(df[['Packs']])\n",
    "sol2segment = minimize(\n",
    "    two_segment,\n",
    "    args = (a,b),\n",
    "    x0 = np.array((1,1,1)),\n",
    "    bounds=[(0.000001,0.999999),(0.000001,None),(0.000001,None)],\n",
    "    tol=1e-10,\n",
    "    options={'ftol' : 1e-8},\n",
    ")\n",
    "print(\"lambda1 value for two-segment {}\".format(sol2segment.x[2]))\n",
    "print(\"lambda2 value for two-segment {}\".format(sol2segment.x[1]))\n",
    "print(\"pi1 value for two-segment {}\".format(sol2segment.x[0]))\n",
    "print(\"pi2(1-pi1) value for two-segment {}\".format(1-sol2segment.x[0]))\n",
    "print(\"Log likelihood for 2-segment finite mixture model{}\".format(-1*sol2segment.fun[0]))"
   ]
  },
  {
   "cell_type": "markdown",
   "metadata": {},
   "source": [
    "#### 3-segment"
   ]
  },
  {
   "cell_type": "code",
   "execution_count": 8,
   "metadata": {},
   "outputs": [
    {
     "name": "stdout",
     "output_type": "stream",
     "text": [
      "lambda1 value for three-segment 3.483322340334329\n",
      "lambda2 value for three-segment 11.215816773362894\n",
      "lambda3 value for three-segment 0.29055366607878474\n",
      "theta1 value for three-segment 0.6744315631930806\n",
      "theta2 value for three-segment -0.43040790312205945\n",
      "theta3 value for three-segment 0.0\n",
      "Log likelihood for 3-segment finite mixture model -1132.0429842751907\n"
     ]
    }
   ],
   "source": [
    "def three_segment(params,a,b):\n",
    "    theta1,theta2,lambda1,lambda2,lambda3 = params\n",
    "    pi1 = (e**theta1)/((e**theta1)+(e**theta2)+1) # calculating pie values(pie1,pie2,pie3)\n",
    "    pi2 = (e**theta2)/((e**theta1)+(e**theta2)+1)\n",
    "    pi3 = (1)/((e**theta1)+(e**theta2)+1)\n",
    "    ll = 0\n",
    "    for i in range(len(b)):\n",
    "        ll += a[i]*np.log(pi1*(poisson.pmf(b[i],lambda1)) + pi2*(poisson.pmf(b[i],lambda2)) + pi3*(poisson.pmf(b[i],lambda3))) # as per the formula given in the slides \n",
    "    return (-1)*ll  \n",
    "\n",
    "\n",
    "a = np.array(df[['People']])\n",
    "b = np.array(df[['Packs']])\n",
    "sol3segment = minimize(\n",
    "    three_segment,\n",
    "    args = (a,b),\n",
    "    x0 = np.array((1,2,1,1,1)),\n",
    "    bounds=[(None,None),(None,None),(0.000001,None),(0.000001,None),(0.000001,None)],\n",
    "    tol=1e-10,\n",
    "    options={'ftol' : 1e-8},\n",
    ")\n",
    "\n",
    "theta1 = sol3segment.x[0]\n",
    "theta2 = sol3segment.x[1]\n",
    "lambda1 = sol3segment.x[2]\n",
    "lambda2 = sol3segment.x[3]\n",
    "lambda3 = sol3segment.x[4]\n",
    "print(\"lambda1 value for three-segment {}\".format(lambda1))\n",
    "print(\"lambda2 value for three-segment {}\".format(lambda2))\n",
    "print(\"lambda3 value for three-segment {}\".format(lambda3))\n",
    "print(\"theta1 value for three-segment {}\".format(theta1))\n",
    "print(\"theta2 value for three-segment {}\".format(theta2))\n",
    "print(\"theta3 value for three-segment 0.0\")\n",
    "print(\"Log likelihood for 3-segment finite mixture model {}\".format(-1*sol3segment.fun[0]))"
   ]
  },
  {
   "cell_type": "markdown",
   "metadata": {},
   "source": [
    "#### 4-segment"
   ]
  },
  {
   "cell_type": "code",
   "execution_count": 9,
   "metadata": {},
   "outputs": [
    {
     "name": "stdout",
     "output_type": "stream",
     "text": [
      "lambda1 value for four-segment 7.417654014502218\n",
      "lambda2 value for four-segment 0.2047757185785757\n",
      "lambda4 value for four-segment 12.872409491251577\n",
      "lambda4 value for four-segment 3.0019275641803396\n",
      "theta1 value for four-segment -1.2001167375208144\n",
      "theta2 value for four-segment -0.7220301738582039\n",
      "theta3 value for four-segment -1.5980245259938597\n",
      "theta4 value for four-segment 0.0\n",
      "Log likelihood for 4-segment finite mixture model -1130.0705913673658\n"
     ]
    }
   ],
   "source": [
    "def four_segment(params,a,b):\n",
    "    theta1,theta2,theta3,lambda1,lambda2,lambda3,lambda4 = params\n",
    "    pie1 = (e**theta1)/((e**theta1)+(e**theta2)+(e**theta3)+1) # calculating pie values(pie1,pie2,pie3)\n",
    "    pie2 = (e**theta2)/((e**theta1)+(e**theta2)+(e**theta3)+1)\n",
    "    pie3 = (e**theta3)/((e**theta1)+(e**theta2)+(e**theta3)+1)\n",
    "    pie4 = (1)/((e**theta1)+(e**theta2)+(e**theta3)+1)\n",
    "    ll = 0\n",
    "    for i in range(len(b)):\n",
    "        ll += a[i]*np.log(pie1*(poisson.pmf(b[i],lambda1)) + pie2*(poisson.pmf(b[i],lambda2)) + pie3*(poisson.pmf(b[i],lambda3))+pie4*(poisson.pmf(b[i],lambda4))) # as per the formula given in the slides \n",
    "    return (-1)*ll  \n",
    "\n",
    "a = np.array(df[['People']])\n",
    "b = np.array(df[['Packs']])\n",
    "sol4segment = minimize(\n",
    "    four_segment,\n",
    "    args = (a,b),\n",
    "    x0 = np.array((1,2,3,1,1,1,1)),\n",
    "    bounds=[(None,None),(None,None),(None,None),(0.000001,None),(0.000001,None),(0.000001,None),(0.000001,None)],\n",
    "    tol=1e-10,\n",
    "    options={'ftol' : 1e-8},\n",
    ")\n",
    "#print(three_segment(np.array((0.430,1.105,0.291,3.483,11.216)),a,b))\n",
    "theta1 = sol4segment.x[0]\n",
    "theta2 = sol4segment.x[1]\n",
    "theta3 = sol4segment.x[2]\n",
    "lambda1 = sol4segment.x[3]\n",
    "lambda2 = sol4segment.x[4]\n",
    "lambda3 = sol4segment.x[5]\n",
    "lambda4 = sol4segment.x[6]\n",
    "print(\"lambda1 value for four-segment {}\".format(lambda1))\n",
    "print(\"lambda2 value for four-segment {}\".format(lambda2))\n",
    "print(\"lambda4 value for four-segment {}\".format(lambda3))\n",
    "print(\"lambda4 value for four-segment {}\".format(lambda4))\n",
    "print(\"theta1 value for four-segment {}\".format(theta1))\n",
    "print(\"theta2 value for four-segment {}\".format(theta2))\n",
    "print(\"theta3 value for four-segment {}\".format(theta3))\n",
    "print(\"theta4 value for four-segment 0.0\")\n",
    "print(\"Log likelihood for 4-segment finite mixture model {}\".format(-1*sol4segment.fun[0]))"
   ]
  },
  {
   "cell_type": "markdown",
   "metadata": {},
   "source": [
    "2-segment prediction"
   ]
  },
  {
   "cell_type": "code",
   "execution_count": 10,
   "metadata": {},
   "outputs": [
    {
     "name": "stdout",
     "output_type": "stream",
     "text": [
      "Expected purchases next 8 weeks if past week = 5 packs is 42.781266102377096\n",
      "Expected purchases next 8 weeks if past week = 5 packs, if customer is classified into segment2(since p(s=1,x=5) < p(s=2,x=5)) is 14.417219893128983\n"
     ]
    }
   ],
   "source": [
    "#2 segments\n",
    "lambda2 = 1.802152486641123\n",
    "lambda1 = 9.120665766225097\n",
    "pie1 = 0.2991217614346511\n",
    "pie2 = 0.7008782385653489\n",
    "\n",
    "prob_s1_5 = (pie1*poisson.pmf(5,lambda1))/(pie1*poisson.pmf(5,lambda1) + pie2*poisson.pmf(5,lambda2))\n",
    "prob_s2_5 = (pie2*poisson.pmf(5,lambda2))/(pie1*poisson.pmf(5,lambda1) + pie2*poisson.pmf(5,lambda2))\n",
    "print(\"Expected purchases next 8 weeks if past week = 5 packs is {}\".format(8*(lambda1*(prob_s1_5) + lambda2*(prob_s2_5))))\n",
    "maxi = max(prob_s1_5,prob_s2_5)\n",
    "print(\"Expected purchases next 8 weeks if past week = 5 packs, if customer is classified into segment2(since p(s=1,x=5) < p(s=2,x=5)) is {}\".format(8*lambda2))"
   ]
  },
  {
   "cell_type": "markdown",
   "metadata": {},
   "source": [
    "3-segment prediction"
   ]
  },
  {
   "cell_type": "code",
   "execution_count": 11,
   "metadata": {},
   "outputs": [
    {
     "name": "stdout",
     "output_type": "stream",
     "text": [
      "Expected purchases next 8 weeks if past week = 5 packs is 30.825233285033676\n",
      "Expected purchases next 8 weeks if past week = 5 packs, if customer is classified into segment1(since prob(s=2,x=5) & prob(s=3,x=5) < prob(s=1,x=5)) is 27.86657140851229\n"
     ]
    }
   ],
   "source": [
    "#3segments\n",
    "lambda1 = 3.483321426064036\n",
    "lambda2 = 11.2158213224157\n",
    "lambda3 = 0.29055258688349966\n",
    "theta1 = 0.6744334195584446\n",
    "theta2 = -0.43040650590390545\n",
    "theta3 = 0.0\n",
    "pie1 = e**(theta1) / ((e**theta1) + (e**theta2) + (e**theta3))\n",
    "pie2 = e**(theta2) / ((e**theta1) + (e**theta2) + (e**theta3))\n",
    "pie3 = e**(theta3) / ((e**theta1) + (e**theta2) + (e**theta3))\n",
    "\n",
    "prob_s1_5 = (pie1*poisson.pmf(5,lambda1))/(pie1*poisson.pmf(5,lambda1) + pie2*poisson.pmf(5,lambda2) + pie3*poisson.pmf(5,lambda3))\n",
    "prob_s2_5 = (pie2*poisson.pmf(5,lambda2))/(pie1*poisson.pmf(5,lambda1) + pie2*poisson.pmf(5,lambda2) + pie3*poisson.pmf(5,lambda3))\n",
    "prob_s3_5 = (pie3*poisson.pmf(5,lambda3))/(pie1*poisson.pmf(5,lambda1) + pie2*poisson.pmf(5,lambda2) + pie3*poisson.pmf(5,lambda3))\n",
    "print(\"Expected purchases next 8 weeks if past week = 5 packs is {}\".format(8*(lambda1*(prob_s1_5) + lambda2*(prob_s2_5) + lambda3*(prob_s3_5))))\n",
    "maxi = max(prob_s1_5,prob_s2_5,prob_s3_5)\n",
    "print(\"Expected purchases next 8 weeks if past week = 5 packs, if customer is classified into segment1(since prob(s=2,x=5) & prob(s=3,x=5) < prob(s=1,x=5)) is {}\".format(8*lambda1))"
   ]
  },
  {
   "cell_type": "markdown",
   "metadata": {},
   "source": [
    "4-segment prediction"
   ]
  },
  {
   "cell_type": "code",
   "execution_count": 12,
   "metadata": {},
   "outputs": [
    {
     "name": "stdout",
     "output_type": "stream",
     "text": [
      "Expected purchases next 8 weeks if past week = 5 packs is 33.67181197102352\n",
      "Expected purchases next 8 weeks if past week = 5 packs is, if customer is classified into segment1(since p(s=2,x=5) & p(s=3,x=5) & p(s=1,x=5) < p(s=4,x=5)) is 24.015420513442717\n"
     ]
    }
   ],
   "source": [
    "#4segment\n",
    "lambda1 = 7.417654014502218\n",
    "lambda2 = 0.2047757185785757\n",
    "lambda3 = 12.872409491251577\n",
    "lambda4 = 3.0019275641803396\n",
    "theta1 = -1.2001167375208144\n",
    "theta2 = -0.7220301738582039\n",
    "theta3 = -1.5980245259938597\n",
    "theta4 = 0.0\n",
    "pie1 = e**(theta1) / ((e**theta1) + (e**theta2) + (e**theta3) + (e**theta4))\n",
    "pie2 = e**(theta2) / ((e**theta1) + (e**theta2) + (e**theta3) + (e**theta4))\n",
    "pie3 = e**(theta3) / ((e**theta1) + (e**theta2) + (e**theta3) + (e**theta4))\n",
    "pie4 = e**(theta4) / ((e**theta1) + (e**theta2) + (e**theta3) + (e**theta4))\n",
    "\n",
    "\n",
    "prob_s1_5 = (pie1*poisson.pmf(5,lambda1))/(pie1*poisson.pmf(5,lambda1) + pie2*poisson.pmf(5,lambda2) + pie3*poisson.pmf(5,lambda3) + pie4*poisson.pmf(5,lambda4))\n",
    "prob_s2_5 = (pie2*poisson.pmf(5,lambda2))/(pie1*poisson.pmf(5,lambda1) + pie2*poisson.pmf(5,lambda2) + pie3*poisson.pmf(5,lambda3) + pie4*poisson.pmf(5,lambda4))\n",
    "prob_s3_5 = (pie3*poisson.pmf(5,lambda3))/(pie1*poisson.pmf(5,lambda1) + pie2*poisson.pmf(5,lambda2) + pie3*poisson.pmf(5,lambda3) + pie4*poisson.pmf(5,lambda4))\n",
    "prob_s4_5 = (pie4*poisson.pmf(5,lambda4))/(pie1*poisson.pmf(5,lambda1) + pie2*poisson.pmf(5,lambda2) + pie3*poisson.pmf(5,lambda3) + pie4*poisson.pmf(5,lambda4))\n",
    "print(\"Expected purchases next 8 weeks if past week = 5 packs is {}\".format(8*(lambda1*(prob_s1_5) + lambda2*(prob_s2_5) + lambda3*(prob_s3_5) + lambda4*(prob_s4_5))))\n",
    "maxi = max(prob_s1_5,prob_s2_5,prob_s3_5,prob_s4_5)\n",
    "print(\"Expected purchases next 8 weeks if past week = 5 packs is, if customer is classified into segment1(since p(s=2,x=5) & p(s=3,x=5) & p(s=1,x=5) < p(s=4,x=5)) is {}\".format(8*lambda4))"
   ]
  },
  {
   "cell_type": "markdown",
   "metadata": {},
   "source": [
    "2-segment prediction"
   ]
  },
  {
   "cell_type": "code",
   "execution_count": 13,
   "metadata": {},
   "outputs": [
    {
     "name": "stdout",
     "output_type": "stream",
     "text": [
      "Expected purchases next 8 weeks if past week = 5 packs is 72.87051083131314\n",
      "Expected purchases next 8 weeks if past week = 5 packs is, if customer is classified into segment2(since p(s=2,x=9) < p(s=1,x=9)) is 72.96532612980077\n"
     ]
    }
   ],
   "source": [
    "#2segment\n",
    "lambda2 = 1.802152486641123\n",
    "lambda1 = 9.120665766225097\n",
    "pie1 = 0.2991217614346511\n",
    "pie2 = 0.7008782385653489\n",
    "\n",
    "prob_s1_9 = (pie1*poisson.pmf(9,lambda1))/(pie1*poisson.pmf(9,lambda1) + pie2*poisson.pmf(9,lambda2))\n",
    "prob_s2_9 = (pie2*poisson.pmf(9,lambda2))/(pie1*poisson.pmf(9,lambda1) + pie2*poisson.pmf(9,lambda2))\n",
    "print(\"Expected purchases next 8 weeks if past week = 9 packs is {}\".format(8*(lambda1*(prob_s1_9) + lambda2*(prob_s2_9))))\n",
    "maxi = max(prob_s1_9,prob_s2_9)\n",
    "print(\"Expected purchases next 8 weeks if past week = 9 packs is, if customer is classified into segment2(since p(s=2,x=9) < p(s=1,x=9)) is {}\".format(8*lambda1))"
   ]
  },
  {
   "cell_type": "markdown",
   "metadata": {},
   "source": [
    "3-segment prediction"
   ]
  },
  {
   "cell_type": "code",
   "execution_count": 14,
   "metadata": {},
   "outputs": [
    {
     "name": "stdout",
     "output_type": "stream",
     "text": [
      "Expected purchases next 8 weeks if past week = 5 packs is 80.06350112030917\n",
      "Expected purchases next 8 weeks if past week = 5 packs is, if customer is classified into segment1(since prob(s=1,x=9) & prob(s=3,x=9) < prob(s=2,x=9)) is 89.7265705793256\n"
     ]
    }
   ],
   "source": [
    "lambda1 = 3.483321426064036\n",
    "lambda2 = 11.2158213224157\n",
    "lambda3 = 0.29055258688349966\n",
    "theta1 = 0.6744334195584446\n",
    "theta2 = -0.43040650590390545\n",
    "theta3 = 0.0\n",
    "pie1 = e**(theta1) / ((e**theta1) + (e**theta2) + (e**theta3))\n",
    "pie2 = e**(theta2) / ((e**theta1) + (e**theta2) + (e**theta3))\n",
    "pie3 = e**(theta3) / ((e**theta1) + (e**theta2) + (e**theta3))\n",
    "\n",
    "prob_s1_9 = (pie1*poisson.pmf(9,lambda1))/(pie1*poisson.pmf(9,lambda1) + pie2*poisson.pmf(9,lambda2) + pie3*poisson.pmf(9,lambda3))\n",
    "prob_s2_9 = (pie2*poisson.pmf(9,lambda2))/(pie1*poisson.pmf(9,lambda1) + pie2*poisson.pmf(9,lambda2) + pie3*poisson.pmf(9,lambda3))\n",
    "prob_s3_9 = (pie3*poisson.pmf(9,lambda3))/(pie1*poisson.pmf(9,lambda1) + pie2*poisson.pmf(9,lambda2) + pie3*poisson.pmf(9,lambda3))\n",
    "print(\"Expected purchases next 8 weeks if past week = 9 packs is {}\".format(8*(lambda1*(prob_s1_9) + lambda2*(prob_s2_9) + lambda3*(prob_s3_9))))\n",
    "maxi = max(prob_s1_9,prob_s2_9,prob_s3_9)\n",
    "print(\"Expected purchases next 8 weeks if past week = 9 packs is, if customer is classified into segment1(since prob(s=1,x=9) & prob(s=3,x=9) < prob(s=2,x=9)) is {}\".format(8*lambda2))"
   ]
  },
  {
   "cell_type": "markdown",
   "metadata": {},
   "source": [
    "4-segment prediction"
   ]
  },
  {
   "cell_type": "code",
   "execution_count": 15,
   "metadata": {},
   "outputs": [
    {
     "name": "stdout",
     "output_type": "stream",
     "text": [
      "Expected purchases next 8 weeks if past week = 5 packs is 69.4515852214773\n",
      "Expected purchases next 8 weeks if past week = 5 packs is, if customer is classified into segment1(since p(s=2,x=9) & p(s=3,x=9) & p(s=4,x=9) < p(s=1,x=9)) is 59.34123211601774\n"
     ]
    }
   ],
   "source": [
    "lambda1 = 7.417654014502218\n",
    "lambda2 = 0.2047757185785757\n",
    "lambda3 = 12.872409491251577\n",
    "lambda4 = 3.0019275641803396\n",
    "theta1 = -1.2001167375208144\n",
    "theta2 = -0.7220301738582039\n",
    "theta3 = -1.5980245259938597\n",
    "theta4 = 0.0\n",
    "pie1 = e**(theta1) / ((e**theta1) + (e**theta2) + (e**theta3) + (e**theta4))\n",
    "pie2 = e**(theta2) / ((e**theta1) + (e**theta2) + (e**theta3) + (e**theta4))\n",
    "pie3 = e**(theta3) / ((e**theta1) + (e**theta2) + (e**theta3) + (e**theta4))\n",
    "pie4 = e**(theta4) / ((e**theta1) + (e**theta2) + (e**theta3) + (e**theta4))\n",
    "\n",
    "\n",
    "prob_s1_9 = (pie1*poisson.pmf(9,lambda1))/(pie1*poisson.pmf(9,lambda1) + pie2*poisson.pmf(9,lambda2) + pie3*poisson.pmf(9,lambda3) + pie4*poisson.pmf(9,lambda4))\n",
    "prob_s2_9 = (pie2*poisson.pmf(9,lambda2))/(pie1*poisson.pmf(9,lambda1) + pie2*poisson.pmf(9,lambda2) + pie3*poisson.pmf(9,lambda3) + pie4*poisson.pmf(9,lambda4))\n",
    "prob_s3_9 = (pie3*poisson.pmf(9,lambda3))/(pie1*poisson.pmf(9,lambda1) + pie2*poisson.pmf(9,lambda2) + pie3*poisson.pmf(9,lambda3) + pie4*poisson.pmf(9,lambda4))\n",
    "prob_s4_9 = (pie4*poisson.pmf(9,lambda4))/(pie1*poisson.pmf(9,lambda1) + pie2*poisson.pmf(9,lambda2) + pie3*poisson.pmf(9,lambda3) + pie4*poisson.pmf(9,lambda4))\n",
    "print(\"Expected purchases next 8 weeks if past week = 9 packs is {}\".format(8*(lambda1*(prob_s1_9) + lambda2*(prob_s2_9) + lambda3*(prob_s3_9) + lambda4*(prob_s4_9))))\n",
    "maxi = max(prob_s1_5,prob_s2_5,prob_s3_5,prob_s4_5)\n",
    "print(\"Expected purchases next 8 weeks if past week = 9 packs is, if customer is classified into segment1(since p(s=2,x=9) & p(s=3,x=9) & p(s=4,x=9) < p(s=1,x=9)) is {}\".format(8*lambda1))"
   ]
  },
  {
   "cell_type": "markdown",
   "metadata": {},
   "source": [
    "# Part 2"
   ]
  },
  {
   "cell_type": "code",
   "execution_count": 16,
   "metadata": {},
   "outputs": [
    {
     "data": {
      "text/html": [
       "<div>\n",
       "<style scoped>\n",
       "    .dataframe tbody tr th:only-of-type {\n",
       "        vertical-align: middle;\n",
       "    }\n",
       "\n",
       "    .dataframe tbody tr th {\n",
       "        vertical-align: top;\n",
       "    }\n",
       "\n",
       "    .dataframe thead th {\n",
       "        text-align: right;\n",
       "    }\n",
       "</style>\n",
       "<table border=\"1\" class=\"dataframe\">\n",
       "  <thead>\n",
       "    <tr style=\"text-align: right;\">\n",
       "      <th></th>\n",
       "      <th>articles</th>\n",
       "      <th>female</th>\n",
       "      <th>married</th>\n",
       "      <th>kids</th>\n",
       "      <th>prestige</th>\n",
       "      <th>menpubs</th>\n",
       "    </tr>\n",
       "  </thead>\n",
       "  <tbody>\n",
       "    <tr>\n",
       "      <th>0</th>\n",
       "      <td>0</td>\n",
       "      <td>0</td>\n",
       "      <td>1</td>\n",
       "      <td>0</td>\n",
       "      <td>2.52</td>\n",
       "      <td>7</td>\n",
       "    </tr>\n",
       "    <tr>\n",
       "      <th>1</th>\n",
       "      <td>0</td>\n",
       "      <td>1</td>\n",
       "      <td>0</td>\n",
       "      <td>0</td>\n",
       "      <td>2.05</td>\n",
       "      <td>6</td>\n",
       "    </tr>\n",
       "    <tr>\n",
       "      <th>2</th>\n",
       "      <td>0</td>\n",
       "      <td>1</td>\n",
       "      <td>0</td>\n",
       "      <td>0</td>\n",
       "      <td>3.75</td>\n",
       "      <td>6</td>\n",
       "    </tr>\n",
       "    <tr>\n",
       "      <th>3</th>\n",
       "      <td>0</td>\n",
       "      <td>0</td>\n",
       "      <td>1</td>\n",
       "      <td>1</td>\n",
       "      <td>1.18</td>\n",
       "      <td>3</td>\n",
       "    </tr>\n",
       "    <tr>\n",
       "      <th>4</th>\n",
       "      <td>0</td>\n",
       "      <td>1</td>\n",
       "      <td>0</td>\n",
       "      <td>0</td>\n",
       "      <td>3.75</td>\n",
       "      <td>26</td>\n",
       "    </tr>\n",
       "  </tbody>\n",
       "</table>\n",
       "</div>"
      ],
      "text/plain": [
       "   articles  female  married  kids  prestige  menpubs\n",
       "0         0       0        1     0      2.52        7\n",
       "1         0       1        0     0      2.05        6\n",
       "2         0       1        0     0      3.75        6\n",
       "3         0       0        1     1      1.18        3\n",
       "4         0       1        0     0      3.75       26"
      ]
     },
     "execution_count": 16,
     "metadata": {},
     "output_type": "execute_result"
    }
   ],
   "source": [
    "df=pd.read_csv('articles.csv')\n",
    "df.head()"
   ]
  },
  {
   "cell_type": "code",
   "execution_count": 17,
   "metadata": {},
   "outputs": [
    {
     "name": "stdout",
     "output_type": "stream",
     "text": [
      "Lambda0: 1.3569756192417102\n",
      "Beta1: -0.2239520330683631\n",
      "Beta2: 0.1549662615389069\n",
      "Beta3: -0.18508761154450679\n",
      "Beta4: 0.02553308422651582\n",
      "Beta5: 0.0001\n",
      "Log Likelihood: -1651.0565708515671\n"
     ]
    }
   ],
   "source": [
    "df=pd.read_csv('articles.csv')\n",
    "k=np.array(df[['articles']])\n",
    "a=np.array(df[['female']])\n",
    "b=np.array(df[['married']])\n",
    "c=np.array(df[['kids']])\n",
    "d=np.array(df[['prestige']])\n",
    "f=np.array(df[['menpubs']])\n",
    "\n",
    "def PR(params,a,b,c,d,f,k):\n",
    "    lmbda0, beta1, beta2, beta3, beta4, beta5 = params\n",
    "    p = 0\n",
    "    pt1 = 0\n",
    "    pt2 = 0\n",
    "    pt3 = 0\n",
    "    for i in range(len(a)):\n",
    "        lmbda= lmbda0*math.exp(beta1*a[i]+beta2*b[i]+beta3*c[i]+beta4*d[i]+beta5*f[i])\n",
    "        fact = float(math.factorial(float(k[i])))## take the log before \n",
    "        pt1 = pt1 + k[i]*np.log(lmbda)\n",
    "        pt2 = pt2 + lmbda\n",
    "        pt3 = pt3 + np.log(fact)\n",
    "    p = pt1-pt2-pt3\n",
    "    return (-1)*p\n",
    "lmbda0=0.0001\n",
    "beta1=0.0001\n",
    "beta2=0.0001\n",
    "beta3=0.0001\n",
    "beta4=0.0001\n",
    "beta5=0.0001\n",
    "params=lmbda0,beta1,beta2,beta3,beta4,beta5\n",
    "solPR1 = minimize(\n",
    "    PR,\n",
    "    args = (a,b,c,d,f,k),\n",
    "    x0 = np.array(params),\n",
    "    bounds=[(0.00001, None), (None,None), (None,None), (None,None), (None,None), (None,None)],\n",
    "    tol=1e-10,\n",
    "    options={'ftol' : 1e-8},\n",
    ")\n",
    "\n",
    "lmbda0 = solPR1.x[0]\n",
    "beta1=solPR1.x[1]\n",
    "beta2=solPR1.x[2]\n",
    "beta3=solPR1.x[3]\n",
    "beta4=solPR1.x[4]\n",
    "beta4=solPR1.x[5]\n",
    "ll_PR1=solPR1.fun[0]\n",
    "print(\"Lambda0: {}\".format(lmbda0))\n",
    "print(\"Beta1: {}\".format(beta1))\n",
    "print(\"Beta2: {}\".format(beta2))\n",
    "print(\"Beta3: {}\".format(beta3))\n",
    "print(\"Beta4: {}\".format(beta4))\n",
    "print(\"Beta5: {}\".format(beta5))\n",
    "print(\"Log Likelihood: {}\".format(ll_PR1*(-1)))"
   ]
  },
  {
   "cell_type": "code",
   "execution_count": 18,
   "metadata": {},
   "outputs": [
    {
     "name": "stdout",
     "output_type": "stream",
     "text": [
      "Alpha: 1.7498866921285627\n",
      "n: 2.2649021059591434\n",
      "beta1: -0.2157650356969458\n",
      "Beta2: 0.1492626869924588\n",
      "Beta3: -0.17626768965454373\n",
      "Beta4: 0.014831939706369512\n",
      "Beta5: 0.029098848354927986\n",
      "Log Likelihood: -1560.9585966009363\n"
     ]
    }
   ],
   "source": [
    "df=pd.read_csv('articles.csv')\n",
    "\n",
    "a=np.array(df[['female']])\n",
    "b=np.array(df[['married']])\n",
    "c=np.array(df[['kids']])\n",
    "d=np.array(df[['prestige']])\n",
    "f=np.array(df[['menpubs']])\n",
    "k=np.array(df[['articles']])\n",
    "\n",
    "def NBDR(params,a,b,c,d,f,k):\n",
    "    alpha, n, beta1, beta2, beta3, beta4, beta5 = params\n",
    "    p = 0\n",
    "    pt1 = 0\n",
    "    pt2 = 0\n",
    "    pt3 = 0\n",
    "    for i in range(len(a)):\n",
    "        pt1 = np.log(math.gamma(n+int(k[i]))) -(np.log(math.gamma(n)) + np.log(factorial(int(k[i]))))\n",
    "        denom = math.exp(beta1*a[i]+beta2*b[i]+beta3*c[i]+beta4*d[i]+beta5*f[i])\n",
    "        pt2 = n*(np.log(alpha) - np.log(alpha+denom))\n",
    "        pt3 = int(k[i])*(np.log(denom) - np.log(alpha+denom))\n",
    "        p += pt1 + pt2 + pt3\n",
    "    return -1*p\n",
    "\n",
    "alpha=0.01\n",
    "n=0.0001\n",
    "beta1=0.0001\n",
    "beta2=0.5\n",
    "beta3=0.02\n",
    "beta4=0.3\n",
    "beta5=0.1\n",
    "\n",
    "params=alpha,n,beta1,beta2,beta3,beta4,beta5\n",
    "solnbdr1 = minimize(\n",
    "    NBDR,\n",
    "    args = (a,b,c,d,f,k),\n",
    "    x0 = np.array(params),\n",
    "    bounds=[(0.000001,None),(0.000001,None),(None,None),(None,None),(None,None),(None,None),(None,None)],\n",
    "    tol=1e-10,\n",
    "    options={'ftol' : 1e-8},\n",
    ")\n",
    "\n",
    "alpha = solnbdr1.x[0]\n",
    "n=solnbdr1.x[1]\n",
    "beta1=solnbdr1.x[2]\n",
    "beta2=solnbdr1.x[3]\n",
    "beta3=solnbdr1.x[4]\n",
    "beta4=solnbdr1.x[5]\n",
    "beta5=solnbdr1.x[6]\n",
    "ll_nbdr1 = solnbdr1.fun\n",
    "\n",
    "print(\"Alpha: {}\".format(alpha))\n",
    "print(\"n: {}\".format(n))\n",
    "print(\"beta1: {}\".format(beta1))\n",
    "print(\"Beta2: {}\".format(beta2))\n",
    "print(\"Beta3: {}\".format(beta3))\n",
    "print(\"Beta4: {}\".format(beta4))\n",
    "print(\"Beta5: {}\".format(beta5))\n",
    "print(\"Log Likelihood: {}\".format((-1)*ll_nbdr1))"
   ]
  },
  {
   "cell_type": "code",
   "execution_count": 19,
   "metadata": {},
   "outputs": [
    {
     "name": "stdout",
     "output_type": "stream",
     "text": [
      "      fun: 1560.958344994616\n",
      " hess_inv: <8x8 LbfgsInvHessProduct with dtype=float64>\n",
      "      jac: array([-1.27556633e-02,  1.31421985e-02,  1.72576620e-02,  2.42152964e-02,\n",
      "        2.26009434e-02,  5.05679054e-02,  1.34923539e-01,  4.90300863e+01])\n",
      "  message: b'CONVERGENCE: REL_REDUCTION_OF_F_<=_FACTR*EPSMCH'\n",
      "     nfev: 396\n",
      "      nit: 40\n",
      "     njev: 44\n",
      "   status: 0\n",
      "  success: True\n",
      "        x: array([ 1.75288256e+00,  2.26466627e+00, -2.16362630e-01,  1.50532992e-01,\n",
      "       -1.76391269e-01,  1.52537849e-02,  2.90817386e-02,  1.00000000e-07])\n",
      "Alpha: 1.7528825636741736\n",
      "n: 2.2646662723139137\n",
      "beta1: -0.2163626299473107\n",
      "Beta2: 0.1505329924647206\n",
      "Beta3: -0.1763912690587247\n",
      "Beta4: 0.015253784915255609\n",
      "Beta:0.029081738550683838\n",
      "Pi: 1e-07\n",
      "Log Likelihood: -1560.958344994616\n"
     ]
    }
   ],
   "source": [
    "df=pd.read_csv('articles.csv')\n",
    "\n",
    "a=np.array(df[['female']])\n",
    "b=np.array(df[['married']])\n",
    "c=np.array(df[['kids']])\n",
    "d=np.array(df[['prestige']])\n",
    "f=np.array(df[['menpubs']])\n",
    "k=np.array(df[['articles']])\n",
    "\n",
    "#1. we utilized our NBD Regression function and altered it to include zero inflated cases\n",
    "def NBDRZI(params,a,b,c,d,f,k):\n",
    "    alpha, n, beta1, beta2, beta3, beta4, beta5, pi = params\n",
    "    p = 0\n",
    "    for i in range(len(a)):\n",
    "        pt1 = np.log(math.gamma(n+int(k[i]))) -(np.log(math.gamma(n)) + np.log(factorial(int(k[i]))))\n",
    "        denom = math.exp(beta1*a[i]+beta2*b[i]+beta3*c[i]+beta4*d[i]+beta5*f[i])\n",
    "        pt2 = n*(np.log(alpha) - np.log(alpha+denom))\n",
    "        pt3 = int(k[i])*(np.log(denom) - np.log(alpha+denom))\n",
    "        pt4 = np.log(1-pi)\n",
    "        if k[i]==0: #this will better predict the number of 0's in the model\n",
    "            pt1 = math.gamma(n+int(k[i]))/math.gamma(n)*factorial(int(k[i]))\n",
    "            pt2 = (alpha/(alpha+denom))**n\n",
    "            pt3 = (denom/(alpha+denom))**int(k[i])\n",
    "            p += np.log(pt1*pt2*pt3*(1-pi)+pi)\n",
    "        else:\n",
    "            p += pt1 + pt2 + pt3 + pt4\n",
    "    return -1*p\n",
    "\n",
    "#2. we set a few guesses for each of the parameters\n",
    "alpha=0.07\n",
    "n=0.03\n",
    "beta1=0.0001\n",
    "beta2=0.6\n",
    "beta3=0.4\n",
    "beta4=0.03\n",
    "beta5=0.005\n",
    "pi=0.01 #pi is a probability, so we set it between 0 and 1, noninclusive\n",
    "params=alpha,n,beta1,beta2,beta3,beta4,beta5,pi\n",
    "\n",
    "#3. we optimize the parameters to maximize ll \n",
    "solnbdrzi = minimize(\n",
    "    NBDRZI,\n",
    "    args = (a,b,c,d,f,k),\n",
    "    x0 = np.array(params),\n",
    "    bounds=[(0.000001,None),(0.000001,None),(None,None),(None,None),(None,None),(None,None),(None,None),(0.0000001,1)],\n",
    "    tol=1e-10,\n",
    "    options={'ftol' : 1e-8},\n",
    ")\n",
    "\n",
    "alpha = solnbdrzi.x[0]\n",
    "n=solnbdrzi.x[1]\n",
    "beta1=solnbdrzi.x[2]\n",
    "beta2=solnbdrzi.x[3]\n",
    "beta3=solnbdrzi.x[4]\n",
    "beta4=solnbdrzi.x[5]\n",
    "beta5=solnbdrzi.x[6]\n",
    "pi=solnbdrzi.x[7]\n",
    "ll_nbdrzi = solnbdrzi.fun\n",
    "\n",
    "print(solnbdrzi)\n",
    "\n",
    "print(\"Alpha: {}\".format(alpha))\n",
    "print(\"n: {}\".format(n))\n",
    "print(\"beta1: {}\".format(beta1))\n",
    "print(\"Beta2: {}\".format(beta2))\n",
    "print(\"Beta3: {}\".format(beta3))\n",
    "print(\"Beta4: {}\".format(beta4))\n",
    "print(\"Beta:{}\".format(beta5))\n",
    "print(\"Pi: {}\".format(pi))\n",
    "print(\"Log Likelihood: {}\".format((-1)*ll_nbdrzi))"
   ]
  }
 ],
 "metadata": {
  "kernelspec": {
   "display_name": "Python 3 (ipykernel)",
   "language": "python",
   "name": "python3"
  },
  "language_info": {
   "codemirror_mode": {
    "name": "ipython",
    "version": 3
   },
   "file_extension": ".py",
   "mimetype": "text/x-python",
   "name": "python",
   "nbconvert_exporter": "python",
   "pygments_lexer": "ipython3",
   "version": "3.9.7"
  }
 },
 "nbformat": 4,
 "nbformat_minor": 4
}
